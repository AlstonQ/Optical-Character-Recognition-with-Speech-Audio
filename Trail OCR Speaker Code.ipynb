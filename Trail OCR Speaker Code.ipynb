{
 "cells": [
  {
   "cell_type": "code",
   "execution_count": 2,
   "metadata": {},
   "outputs": [
    {
     "name": "stdout",
     "output_type": "stream",
     "text": [
      "Collecting pytesseract\n",
      "  Downloading https://files.pythonhosted.org/packages/47/e5/892d78db0d26372aa376fc1b127e9cd4cc158727a76e0802069115fcbd6e/pytesseract-0.3.0.tar.gz\n",
      "Requirement already satisfied: Pillow in c:\\programdata\\anaconda3\\lib\\site-packages (from pytesseract) (6.1.0)\n",
      "Building wheels for collected packages: pytesseract\n",
      "  Building wheel for pytesseract (setup.py): started\n",
      "  Building wheel for pytesseract (setup.py): finished with status 'done'\n",
      "  Stored in directory: C:\\Users\\Admin\\AppData\\Local\\pip\\Cache\\wheels\\78\\c9\\ac\\4cb76bd547f9970070522439e5203ba7926c5c5c4f131583ea\n",
      "Successfully built pytesseract\n",
      "Installing collected packages: pytesseract\n",
      "Successfully installed pytesseract-0.3.0\n",
      "Note: you may need to restart the kernel to use updated packages.\n"
     ]
    }
   ],
   "source": [
    "pip install pytesseract"
   ]
  },
  {
   "cell_type": "code",
   "execution_count": 4,
   "metadata": {},
   "outputs": [
    {
     "name": "stdout",
     "output_type": "stream",
     "text": [
      "Collecting pyttsx3\n",
      "  Downloading https://files.pythonhosted.org/packages/2f/ca/019a5d782f355bc2040ac45bd9612995652934dc16e48873d3fb2e367547/pyttsx3-2.71-py3-none-any.whl\n",
      "Collecting pypiwin32; \"win32\" in sys_platform (from pyttsx3)\n",
      "  Downloading https://files.pythonhosted.org/packages/d0/1b/2f292bbd742e369a100c91faa0483172cd91a1a422a6692055ac920946c5/pypiwin32-223-py3-none-any.whl\n",
      "Requirement already satisfied: pywin32>=223 in c:\\programdata\\anaconda3\\lib\\site-packages (from pypiwin32; \"win32\" in sys_platform->pyttsx3) (223)\n",
      "Installing collected packages: pypiwin32, pyttsx3\n",
      "Successfully installed pypiwin32-223 pyttsx3-2.71\n",
      "Note: you may need to restart the kernel to use updated packages.\n"
     ]
    }
   ],
   "source": [
    "pip install pyttsx3"
   ]
  },
  {
   "cell_type": "code",
   "execution_count": 7,
   "metadata": {},
   "outputs": [
    {
     "name": "stdout",
     "output_type": "stream",
     "text": [
      "Collecting googletrans\n",
      "  Downloading https://files.pythonhosted.org/packages/fd/f0/a22d41d3846d1f46a4f20086141e0428ccc9c6d644aacbfd30990cf46886/googletrans-2.4.0.tar.gz\n",
      "Requirement already satisfied: requests in c:\\programdata\\anaconda3\\lib\\site-packages (from googletrans) (2.22.0)\n",
      "Requirement already satisfied: certifi>=2017.4.17 in c:\\programdata\\anaconda3\\lib\\site-packages (from requests->googletrans) (2019.6.16)\n",
      "Requirement already satisfied: idna<2.9,>=2.5 in c:\\programdata\\anaconda3\\lib\\site-packages (from requests->googletrans) (2.8)\n",
      "Requirement already satisfied: chardet<3.1.0,>=3.0.2 in c:\\programdata\\anaconda3\\lib\\site-packages (from requests->googletrans) (3.0.4)\n",
      "Requirement already satisfied: urllib3!=1.25.0,!=1.25.1,<1.26,>=1.21.1 in c:\\programdata\\anaconda3\\lib\\site-packages (from requests->googletrans) (1.24.2)\n",
      "Building wheels for collected packages: googletrans\n",
      "  Building wheel for googletrans (setup.py): started\n",
      "  Building wheel for googletrans (setup.py): finished with status 'done'\n",
      "  Stored in directory: C:\\Users\\Admin\\AppData\\Local\\pip\\Cache\\wheels\\50\\d6\\e7\\a8efd5f2427d5eb258070048718fa56ee5ac57fd6f53505f95\n",
      "Successfully built googletrans\n",
      "Installing collected packages: googletrans\n",
      "Successfully installed googletrans-2.4.0\n",
      "Note: you may need to restart the kernel to use updated packages.\n"
     ]
    }
   ],
   "source": [
    "pip install googletrans"
   ]
  },
  {
   "cell_type": "code",
   "execution_count": 14,
   "metadata": {},
   "outputs": [
    {
     "name": "stdout",
     "output_type": "stream",
     "text": [
      "Collecting gTTS\n",
      "  Downloading https://files.pythonhosted.org/packages/02/0b/e19dd65623e34954fb6793765ad1c6185a669a33e6a6245939e97abeaaca/gTTS-2.0.4-py3-none-any.whl\n",
      "Requirement already satisfied: click in c:\\programdata\\anaconda3\\lib\\site-packages (from gTTS) (7.0)\n",
      "Collecting gtts-token>=1.1.3 (from gTTS)\n",
      "  Downloading https://files.pythonhosted.org/packages/e7/25/ca6e9cd3275bfc3097fe6b06cc31db6d3dfaf32e032e0f73fead9c9a03ce/gTTS-token-1.1.3.tar.gz\n",
      "Requirement already satisfied: beautifulsoup4 in c:\\programdata\\anaconda3\\lib\\site-packages (from gTTS) (4.7.1)\n",
      "Requirement already satisfied: requests in c:\\programdata\\anaconda3\\lib\\site-packages (from gTTS) (2.22.0)\n",
      "Requirement already satisfied: six in c:\\programdata\\anaconda3\\lib\\site-packages (from gTTS) (1.12.0)\n",
      "Requirement already satisfied: soupsieve>=1.2 in c:\\programdata\\anaconda3\\lib\\site-packages (from beautifulsoup4->gTTS) (1.8)\n",
      "Requirement already satisfied: certifi>=2017.4.17 in c:\\programdata\\anaconda3\\lib\\site-packages (from requests->gTTS) (2019.6.16)\n",
      "Requirement already satisfied: urllib3!=1.25.0,!=1.25.1,<1.26,>=1.21.1 in c:\\programdata\\anaconda3\\lib\\site-packages (from requests->gTTS) (1.24.2)\n",
      "Requirement already satisfied: idna<2.9,>=2.5 in c:\\programdata\\anaconda3\\lib\\site-packages (from requests->gTTS) (2.8)\n",
      "Requirement already satisfied: chardet<3.1.0,>=3.0.2 in c:\\programdata\\anaconda3\\lib\\site-packages (from requests->gTTS) (3.0.4)\n",
      "Building wheels for collected packages: gtts-token\n",
      "  Building wheel for gtts-token (setup.py): started\n",
      "  Building wheel for gtts-token (setup.py): finished with status 'done'\n",
      "  Stored in directory: C:\\Users\\Admin\\AppData\\Local\\pip\\Cache\\wheels\\dd\\11\\61\\33f7e51bf545e910552b2255eead2a7cd8ef54064b46dceb34\n",
      "Successfully built gtts-token\n",
      "Installing collected packages: gtts-token, gTTS\n",
      "Successfully installed gTTS-2.0.4 gtts-token-1.1.3\n",
      "Note: you may need to restart the kernel to use updated packages.\n"
     ]
    }
   ],
   "source": [
    "pip install gTTS"
   ]
  },
  {
   "cell_type": "code",
   "execution_count": 28,
   "metadata": {},
   "outputs": [
    {
     "name": "stdout",
     "output_type": "stream",
     "text": [
      "Collecting pygame\n",
      "  Downloading https://files.pythonhosted.org/packages/ed/56/b63ab3724acff69f4080e54c4bc5f55d1fbdeeb19b92b70acf45e88a5908/pygame-1.9.6-cp37-cp37m-win_amd64.whl (4.3MB)\n",
      "Installing collected packages: pygame\n",
      "Successfully installed pygame-1.9.6\n",
      "Note: you may need to restart the kernel to use updated packages.\n"
     ]
    }
   ],
   "source": [
    "pip install pygame"
   ]
  },
  {
   "cell_type": "code",
   "execution_count": 45,
   "metadata": {},
   "outputs": [
    {
     "name": "stdout",
     "output_type": "stream",
     "text": [
      "Collecting python-vlc\n",
      "  Downloading https://files.pythonhosted.org/packages/23/12/fd44ed5d105891a061b1aad7d554905e4586a3b43766250616a565d8c5c9/python_vlc-3.0.7110-py3-none-any.whl (80kB)\n",
      "Installing collected packages: python-vlc\n",
      "Successfully installed python-vlc-3.0.7110\n",
      "Note: you may need to restart the kernel to use updated packages.\n"
     ]
    }
   ],
   "source": [
    "pip install python-vlc"
   ]
  },
  {
   "cell_type": "code",
   "execution_count": 21,
   "metadata": {},
   "outputs": [
    {
     "name": "stdout",
     "output_type": "stream",
     "text": [
      "Enter Filename with PNG: Pic2.png\n",
      "<PIL.JpegImagePlugin.JpegImageFile image mode=RGB size=259x194 at 0x2A21D546160>\n",
      "The worst feeling in the world\n",
      "is knowing you did the best\n",
      "you could and it still wasn't\n",
      "\n",
      "good enough.\n"
     ]
    }
   ],
   "source": [
    "import pytesseract       \n",
    "  \n",
    "# adds image processing capabilities \n",
    "from PIL import Image     \n",
    "  \n",
    " # converts the text to speech   \n",
    "import pyttsx3            \n",
    "  \n",
    "#translates into the mentioned language \n",
    "from googletrans import Translator  \n",
    "\n",
    "inp=input(\"Enter Filename with PNG: \")\n",
    "  \n",
    " # opening an image from the source path \n",
    "img = Image.open(inp)      \n",
    "  \n",
    "# describes image format in the output \n",
    "print(img)                           \n",
    "# path where the tesseract module is installed \n",
    "pytesseract.pytesseract.tesseract_cmd ='C:/Program Files/Tesseract-OCR/tesseract.exe'   \n",
    "# converts the image to result and saves it into result variable \n",
    "result = pytesseract.image_to_string(img)    \n",
    "# write text in a text file and save it to source path    \n",
    "with open('abc.txt',mode ='w') as file:      \n",
    "      \n",
    "                 file.write(result) \n",
    "                 print(result) "
   ]
  },
  {
   "cell_type": "code",
   "execution_count": 22,
   "metadata": {},
   "outputs": [
    {
     "data": {
      "text/plain": [
       "True"
      ]
     },
     "execution_count": 22,
     "metadata": {},
     "output_type": "execute_result"
    }
   ],
   "source": [
    "from gtts import gTTS \n",
    "import os \n",
    "  \n",
    "# The text that you want to convert to audio \n",
    "mytext = result\n",
    "  \n",
    "# Language in which you want to convert \n",
    "language = 'en'\n",
    "  \n",
    "# Passing the text and language to the engine,  \n",
    "# here we have marked slow=False. Which tells  \n",
    "# the module that the converted audio should  \n",
    "# have a high speed \n",
    "myobj = gTTS(text=mytext, lang=language, slow=False) \n",
    "  \n",
    "# Saving the converted audio in a mp3 file named \n",
    "# welcome  \n",
    "myobj.save(\"welcome2.mp3\") \n",
    "  \n",
    "# Playing the converted file \n",
    "#os.system('mpg321','welcome.mp3')\n",
    "import webbrowser\n",
    "webbrowser.open(r\"C:\\Users\\Admin\\Desktop\\DSIPr\\welcome2.mp3\")"
   ]
  },
  {
   "cell_type": "code",
   "execution_count": null,
   "metadata": {},
   "outputs": [],
   "source": []
  }
 ],
 "metadata": {
  "kernelspec": {
   "display_name": "Python 3",
   "language": "python",
   "name": "python3"
  },
  "language_info": {
   "codemirror_mode": {
    "name": "ipython",
    "version": 3
   },
   "file_extension": ".py",
   "mimetype": "text/x-python",
   "name": "python",
   "nbconvert_exporter": "python",
   "pygments_lexer": "ipython3",
   "version": "3.7.3"
  }
 },
 "nbformat": 4,
 "nbformat_minor": 2
}
